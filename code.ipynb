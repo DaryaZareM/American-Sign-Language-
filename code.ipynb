{
 "cells": [
  {
   "cell_type": "code",
   "execution_count": 35,
   "metadata": {},
   "outputs": [],
   "source": [
    "from keras.models import Sequential\n",
    "from keras.layers import Dense, Activation, Conv2D, Flatten\n",
    "import csv\n",
    "import numpy\n",
    "import keras\n",
    "from matplotlib import pyplot as plt\n",
    "import tensorflow as tf\n",
    "from sklearn import preprocessing\n"
   ]
  },
  {
   "cell_type": "markdown",
   "metadata": {},
   "source": [
    "## read csv\n",
    "#### read train and test \n",
    "#### seprate lables"
   ]
  },
  {
   "cell_type": "code",
   "execution_count": 2,
   "metadata": {},
   "outputs": [],
   "source": [
    "reader = csv.reader(open(\"sign_mnist_train.csv\", \"r\"), delimiter=\",\")\n",
    "xtrain = list(reader)\n",
    "xtrain=xtrain[1:]\n",
    "train_data = numpy.array(xtrain).astype(\"int\")"
   ]
  },
  {
   "cell_type": "code",
   "execution_count": 3,
   "metadata": {},
   "outputs": [],
   "source": [
    "reader = csv.reader(open(\"sign_mnist_test.csv\", \"r\"), delimiter=\",\")\n",
    "xtest = list(reader)\n",
    "xtest=xtest[1:]\n",
    "test_data = numpy.array(xtest).astype(\"int\")"
   ]
  },
  {
   "cell_type": "code",
   "execution_count": 4,
   "metadata": {},
   "outputs": [],
   "source": [
    "train_lable = train_data[:,0]\n",
    "train_pixel = train_data[:,1:]\n"
   ]
  },
  {
   "cell_type": "code",
   "execution_count": 5,
   "metadata": {},
   "outputs": [],
   "source": [
    "test_lable = test_data[:,0]\n",
    "test_pixel = test_data[:,1:]\n"
   ]
  },
  {
   "cell_type": "markdown",
   "metadata": {},
   "source": [
    "#  normalize train_pixel and test_pixel"
   ]
  },
  {
   "cell_type": "code",
   "execution_count": 6,
   "metadata": {},
   "outputs": [],
   "source": [
    "import pandas as pd\n",
    "x = train_pixel #returns a numpy array\n",
    "min_max_scaler = preprocessing.MinMaxScaler()\n",
    "x_scaled = min_max_scaler.fit_transform(x)\n",
    "norm_train_pixel = pd.DataFrame(x_scaled)"
   ]
  },
  {
   "cell_type": "code",
   "execution_count": 7,
   "metadata": {},
   "outputs": [],
   "source": [
    "x = test_pixel #returns a numpy array\n",
    "min_max_scaler = preprocessing.MinMaxScaler()\n",
    "x_scaled = min_max_scaler.fit_transform(x)\n",
    "norm_test_pixel = pd.DataFrame(x_scaled)"
   ]
  },
  {
   "cell_type": "markdown",
   "metadata": {},
   "source": [
    "### tensor <-- numpy\n"
   ]
  },
  {
   "cell_type": "code",
   "execution_count": 18,
   "metadata": {},
   "outputs": [],
   "source": [
    "data_tf = tf.convert_to_tensor(norm_train_pixel, numpy.float32)\n",
    "lable_tf = tf.convert_to_tensor(train_lable, numpy.float32)"
   ]
  },
  {
   "cell_type": "code",
   "execution_count": 19,
   "metadata": {},
   "outputs": [],
   "source": [
    "lable_tf =tf.keras.utils.to_categorical(lable_tf,26)\n",
    "tl = tf.keras.utils.to_categorical(test_lable,26)"
   ]
  },
  {
   "cell_type": "code",
   "execution_count": 20,
   "metadata": {},
   "outputs": [
    {
     "data": {
      "text/plain": [
       "array([[0., 0., 0., ..., 0., 0., 0.],\n",
       "       [0., 0., 0., ..., 0., 0., 0.],\n",
       "       [0., 0., 1., ..., 0., 0., 0.],\n",
       "       ...,\n",
       "       [0., 0., 0., ..., 0., 0., 0.],\n",
       "       [0., 0., 0., ..., 0., 0., 0.],\n",
       "       [0., 0., 0., ..., 1., 0., 0.]], dtype=float32)"
      ]
     },
     "execution_count": 20,
     "metadata": {},
     "output_type": "execute_result"
    }
   ],
   "source": [
    "lable_tf"
   ]
  },
  {
   "cell_type": "markdown",
   "metadata": {},
   "source": [
    "#  creating model"
   ]
  },
  {
   "cell_type": "code",
   "execution_count": 21,
   "metadata": {},
   "outputs": [],
   "source": [
    "model1 = Sequential([\n",
    "    Dense(32, input_shape=(784,), activation='sigmoid'),\n",
    "    Dense(128, activation='sigmoid'),\n",
    "    Dense(256, activation='sigmoid'),\n",
    "    Dense(26, activation='softmax')\n",
    "    \n",
    "])\n"
   ]
  },
  {
   "cell_type": "markdown",
   "metadata": {},
   "source": [
    "### 3 hiden dens"
   ]
  },
  {
   "cell_type": "code",
   "execution_count": null,
   "metadata": {},
   "outputs": [],
   "source": [
    "model3 = Sequential([\n",
    "    Dense(32, input_shape=(784,), activation='sigmoid'),\n",
    "    Dense(127, activation='sigmoid'),\n",
    "    Dense(512, activation='sigmoid'),\n",
    "    Dense(26, activation='softmax')\n",
    "    \n",
    "])"
   ]
  },
  {
   "cell_type": "markdown",
   "metadata": {},
   "source": [
    "### 5 hiden dens"
   ]
  },
  {
   "cell_type": "code",
   "execution_count": 27,
   "metadata": {},
   "outputs": [],
   "source": [
    "model5 = Sequential([\n",
    "    Dense(64, input_shape=(784,), activation='sigmoid'),\n",
    "    Dense(128, activation='sigmoid'),\n",
    "    Dense(512, activation='sigmoid'),\n",
    "    Dense(256, activation='sigmoid'),\n",
    "    Dense(512, activation='sigmoid'),\n",
    "    Dense(26, activation='softmax')\n",
    "    \n",
    "])"
   ]
  },
  {
   "cell_type": "markdown",
   "metadata": {},
   "source": [
    "# پ\n",
    "## ReLU"
   ]
  },
  {
   "cell_type": "code",
   "execution_count": 38,
   "metadata": {},
   "outputs": [],
   "source": [
    "model10 = Sequential([\n",
    "    Dense(32, input_shape=(784,), activation='relu'),\n",
    "    Dense(128, activation='relu'),\n",
    "    Dense(256, activation='relu'),\n",
    "    Dense(26, activation='relu')\n",
    "    \n",
    "])\n"
   ]
  },
  {
   "cell_type": "code",
   "execution_count": 39,
   "metadata": {},
   "outputs": [
    {
     "name": "stdout",
     "output_type": "stream",
     "text": [
      "Epoch 1/25\n",
      "773/773 [==============================] - 2s 3ms/step - loss: 3.5422 - accuracy: 0.0418 - val_loss: 3.4931 - val_accuracy: 0.0452\n",
      "Epoch 2/25\n",
      "773/773 [==============================] - 2s 3ms/step - loss: 3.5363 - accuracy: 0.0416 - val_loss: 3.6834 - val_accuracy: 0.0426\n",
      "Epoch 3/25\n",
      "773/773 [==============================] - 2s 3ms/step - loss: 3.5175 - accuracy: 0.0420 - val_loss: 3.7955 - val_accuracy: 0.0452\n",
      "Epoch 4/25\n",
      "773/773 [==============================] - 2s 3ms/step - loss: 3.5361 - accuracy: 0.0429 - val_loss: 3.5274 - val_accuracy: 0.0477\n",
      "Epoch 5/25\n",
      "773/773 [==============================] - 2s 3ms/step - loss: 3.5510 - accuracy: 0.0421 - val_loss: 3.4185 - val_accuracy: 0.0444\n",
      "Epoch 6/25\n",
      "773/773 [==============================] - 2s 3ms/step - loss: 3.5343 - accuracy: 0.0435 - val_loss: 3.7153 - val_accuracy: 0.0412\n",
      "Epoch 7/25\n",
      "773/773 [==============================] - 2s 3ms/step - loss: 3.5248 - accuracy: 0.0408 - val_loss: 3.8436 - val_accuracy: 0.0371\n",
      "Epoch 8/25\n",
      "773/773 [==============================] - 2s 3ms/step - loss: 3.5262 - accuracy: 0.0434 - val_loss: 3.5680 - val_accuracy: 0.0382\n",
      "Epoch 9/25\n",
      "773/773 [==============================] - 2s 3ms/step - loss: 3.5302 - accuracy: 0.0418 - val_loss: 3.4407 - val_accuracy: 0.0426\n",
      "Epoch 10/25\n",
      "773/773 [==============================] - 2s 3ms/step - loss: 3.5154 - accuracy: 0.0415 - val_loss: 3.8454 - val_accuracy: 0.0371\n",
      "Epoch 11/25\n",
      "773/773 [==============================] - 2s 3ms/step - loss: 3.5331 - accuracy: 0.0411 - val_loss: 3.7752 - val_accuracy: 0.0357\n",
      "Epoch 12/25\n",
      "773/773 [==============================] - 2s 3ms/step - loss: 3.5405 - accuracy: 0.0407 - val_loss: 3.4975 - val_accuracy: 0.0412\n",
      "Epoch 13/25\n",
      "773/773 [==============================] - 2s 3ms/step - loss: 3.5163 - accuracy: 0.0403 - val_loss: 3.5019 - val_accuracy: 0.0506\n",
      "Epoch 14/25\n",
      "773/773 [==============================] - 2s 3ms/step - loss: 3.5132 - accuracy: 0.0423 - val_loss: 3.6816 - val_accuracy: 0.0426\n",
      "Epoch 15/25\n",
      "773/773 [==============================] - 2s 3ms/step - loss: 3.5369 - accuracy: 0.0426 - val_loss: 3.5237 - val_accuracy: 0.0419\n",
      "Epoch 16/25\n",
      "773/773 [==============================] - 2s 3ms/step - loss: 3.5334 - accuracy: 0.0414 - val_loss: 3.7680 - val_accuracy: 0.0408\n",
      "Epoch 17/25\n",
      "773/773 [==============================] - 2s 3ms/step - loss: 3.5224 - accuracy: 0.0414 - val_loss: 3.4383 - val_accuracy: 0.0371\n",
      "Epoch 18/25\n",
      "773/773 [==============================] - 2s 3ms/step - loss: 3.5425 - accuracy: 0.0416 - val_loss: 3.5255 - val_accuracy: 0.0448\n",
      "Epoch 19/25\n",
      "773/773 [==============================] - 2s 3ms/step - loss: 3.5267 - accuracy: 0.0421 - val_loss: 3.6895 - val_accuracy: 0.0452\n",
      "Epoch 20/25\n",
      "773/773 [==============================] - 2s 3ms/step - loss: 3.5203 - accuracy: 0.0407 - val_loss: 3.6949 - val_accuracy: 0.0444\n",
      "Epoch 21/25\n",
      "773/773 [==============================] - 2s 3ms/step - loss: 3.5529 - accuracy: 0.0416 - val_loss: 3.5813 - val_accuracy: 0.0382\n",
      "Epoch 22/25\n",
      "773/773 [==============================] - 2s 3ms/step - loss: 3.5381 - accuracy: 0.0447 - val_loss: 3.6993 - val_accuracy: 0.0339\n",
      "Epoch 23/25\n",
      "773/773 [==============================] - 3s 3ms/step - loss: 3.5179 - accuracy: 0.0420 - val_loss: 3.7171 - val_accuracy: 0.0499\n",
      "Epoch 24/25\n",
      "773/773 [==============================] - 2s 3ms/step - loss: 3.5218 - accuracy: 0.0435 - val_loss: 3.4316 - val_accuracy: 0.0448\n",
      "Epoch 25/25\n",
      "773/773 [==============================] - 2s 3ms/step - loss: 3.5472 - accuracy: 0.0440 - val_loss: 3.4608 - val_accuracy: 0.0368\n"
     ]
    }
   ],
   "source": [
    "opt = keras.optimizers.Adam(learning_rate=0.01)\n",
    "model10.compile(loss='categorical_crossentropy', optimizer=opt,metrics=['accuracy'] )\n",
    "\n",
    "history10 = model.fit(data_tf,lable_tf ,validation_split=0.1, batch_size=32, epochs=25,callbacks=[callbacks])"
   ]
  },
  {
   "cell_type": "code",
   "execution_count": 46,
   "metadata": {},
   "outputs": [
    {
     "data": {
      "image/png": "[encoded data removed]",
      "text/plain": [
       "<Figure size 432x288 with 1 Axes>"
      ]
     },
     "metadata": {
      "needs_background": "light"
     },
     "output_type": "display_data"
    }
   ],
   "source": [
    "plt.plot(history10.history['loss'])\n",
    "plt.plot(history10.history['val_loss'])\n",
    "plt.title('model loss')\n",
    "plt.ylabel('loss')\n",
    "plt.xlabel('epoch')\n",
    "plt.legend(['train', 'val'], loc='upper left')\n",
    "plt.show()"
   ]
  },
  {
   "cell_type": "markdown",
   "metadata": {},
   "source": [
    "# پ\n",
    "## tanh "
   ]
  },
  {
   "cell_type": "code",
   "execution_count": 47,
   "metadata": {},
   "outputs": [],
   "source": [
    "model20 = Sequential([\n",
    "    Dense(32, input_shape=(784,), activation='tanh'),\n",
    "    Dense(128, activation='tanh'),\n",
    "    Dense(256, activation='tanh'),\n",
    "    Dense(26, activation='tanh')\n",
    "    \n",
    "])\n"
   ]
  },
  {
   "cell_type": "code",
   "execution_count": 48,
   "metadata": {},
   "outputs": [
    {
     "name": "stdout",
     "output_type": "stream",
     "text": [
      "Epoch 1/25\n",
      "773/773 [==============================] - 2s 3ms/step - loss: 3.5450 - accuracy: 0.0434 - val_loss: 3.6283 - val_accuracy: 0.0371\n",
      "Epoch 2/25\n",
      "773/773 [==============================] - 2s 3ms/step - loss: 3.5384 - accuracy: 0.0453 - val_loss: 3.6157 - val_accuracy: 0.0419\n",
      "Epoch 3/25\n",
      "773/773 [==============================] - 2s 3ms/step - loss: 3.5349 - accuracy: 0.0406 - val_loss: 3.5148 - val_accuracy: 0.0419\n",
      "Epoch 4/25\n",
      "773/773 [==============================] - 2s 3ms/step - loss: 3.5336 - accuracy: 0.0419 - val_loss: 3.5424 - val_accuracy: 0.0339\n",
      "Epoch 5/25\n",
      "773/773 [==============================] - 2s 3ms/step - loss: 3.5261 - accuracy: 0.0435 - val_loss: 3.5088 - val_accuracy: 0.0499\n",
      "Epoch 6/25\n",
      "773/773 [==============================] - 2s 3ms/step - loss: 3.5647 - accuracy: 0.0413 - val_loss: 3.6167 - val_accuracy: 0.0368\n",
      "Epoch 7/25\n",
      "773/773 [==============================] - 2s 3ms/step - loss: 3.5596 - accuracy: 0.0432 - val_loss: 3.5561 - val_accuracy: 0.0401\n",
      "Epoch 8/25\n",
      "773/773 [==============================] - 2s 3ms/step - loss: 3.5048 - accuracy: 0.0426 - val_loss: 3.9354 - val_accuracy: 0.0371\n",
      "Epoch 9/25\n",
      "773/773 [==============================] - 2s 3ms/step - loss: 3.5341 - accuracy: 0.0417 - val_loss: 3.5932 - val_accuracy: 0.0371\n",
      "Epoch 10/25\n",
      "773/773 [==============================] - 2s 3ms/step - loss: 3.5328 - accuracy: 0.0441 - val_loss: 3.9933 - val_accuracy: 0.0419\n",
      "Epoch 11/25\n",
      "773/773 [==============================] - 2s 3ms/step - loss: 3.5240 - accuracy: 0.0418 - val_loss: 3.4755 - val_accuracy: 0.0448\n",
      "Epoch 12/25\n",
      "773/773 [==============================] - 2s 3ms/step - loss: 3.5483 - accuracy: 0.0430 - val_loss: 3.5008 - val_accuracy: 0.0477\n",
      "Epoch 13/25\n",
      "773/773 [==============================] - 2s 3ms/step - loss: 3.5435 - accuracy: 0.0407 - val_loss: 3.6488 - val_accuracy: 0.0499\n",
      "Epoch 14/25\n",
      "773/773 [==============================] - 2s 3ms/step - loss: 3.5412 - accuracy: 0.0420 - val_loss: 3.6212 - val_accuracy: 0.0339\n",
      "Epoch 15/25\n",
      "773/773 [==============================] - 2s 3ms/step - loss: 3.5337 - accuracy: 0.0416 - val_loss: 3.8208 - val_accuracy: 0.0408\n",
      "Epoch 16/25\n",
      "773/773 [==============================] - 2s 3ms/step - loss: 3.5334 - accuracy: 0.0437 - val_loss: 3.5974 - val_accuracy: 0.0477\n",
      "Epoch 17/25\n",
      "773/773 [==============================] - 2s 3ms/step - loss: 3.5361 - accuracy: 0.0434 - val_loss: 3.8084 - val_accuracy: 0.0448\n",
      "Epoch 18/25\n",
      "773/773 [==============================] - 2s 3ms/step - loss: 3.5379 - accuracy: 0.0422 - val_loss: 3.6454 - val_accuracy: 0.0412\n",
      "Epoch 19/25\n",
      "773/773 [==============================] - 2s 3ms/step - loss: 3.5302 - accuracy: 0.0405 - val_loss: 3.9071 - val_accuracy: 0.0412\n",
      "Epoch 20/25\n",
      "773/773 [==============================] - 2s 3ms/step - loss: 3.5237 - accuracy: 0.0425 - val_loss: 3.4352 - val_accuracy: 0.0371\n",
      "Epoch 21/25\n",
      "773/773 [==============================] - 2s 3ms/step - loss: 3.5556 - accuracy: 0.0420 - val_loss: 3.5547 - val_accuracy: 0.0371\n",
      "Epoch 22/25\n",
      "773/773 [==============================] - 2s 3ms/step - loss: 3.5445 - accuracy: 0.0423 - val_loss: 3.5617 - val_accuracy: 0.0419\n",
      "Epoch 23/25\n",
      "773/773 [==============================] - 2s 3ms/step - loss: 3.5301 - accuracy: 0.0418 - val_loss: 3.8052 - val_accuracy: 0.0357\n",
      "Epoch 24/25\n",
      "773/773 [==============================] - 2s 3ms/step - loss: 3.5366 - accuracy: 0.0415 - val_loss: 3.5491 - val_accuracy: 0.0412\n",
      "Epoch 25/25\n",
      "773/773 [==============================] - 2s 3ms/step - loss: 3.5289 - accuracy: 0.0423 - val_loss: 3.5035 - val_accuracy: 0.0444\n"
     ]
    }
   ],
   "source": [
    "opt = keras.optimizers.Adam(learning_rate=0.01)\n",
    "model20.compile(loss='categorical_crossentropy', optimizer=opt,metrics=['accuracy'] )\n",
    "\n",
    "history20 = model.fit(data_tf,lable_tf ,validation_split=0.1, batch_size=32, epochs=25,callbacks=[callbacks])"
   ]
  },
  {
   "cell_type": "code",
   "execution_count": 49,
   "metadata": {},
   "outputs": [
    {
     "data": {
      "image/png": "[encoded data removed]",
      "text/plain": [
       "<Figure size 432x288 with 1 Axes>"
      ]
     },
     "metadata": {
      "needs_background": "light"
     },
     "output_type": "display_data"
    }
   ],
   "source": [
    "plt.plot(history20.history['loss'])\n",
    "plt.plot(history20.history['val_loss'])\n",
    "plt.title('model loss')\n",
    "plt.ylabel('loss')\n",
    "plt.xlabel('epoch')\n",
    "plt.legend(['train', 'val'], loc='upper left')\n",
    "plt.show()"
   ]
  },
  {
   "cell_type": "code",
   "execution_count": null,
   "metadata": {},
   "outputs": [],
   "source": []
  },
  {
   "cell_type": "code",
   "execution_count": null,
   "metadata": {},
   "outputs": [],
   "source": []
  },
  {
   "cell_type": "code",
   "execution_count": 34,
   "metadata": {},
   "outputs": [],
   "source": [
    "opt = keras.optimizers.Adam(learning_rate=0.01)\n",
    "model.compile(loss='categorical_crossentropy', optimizer=opt,metrics=['accuracy'] )"
   ]
  },
  {
   "cell_type": "code",
   "execution_count": 30,
   "metadata": {},
   "outputs": [],
   "source": [
    "VAL_LOSS_THRESHOLD = 0.20"
   ]
  },
  {
   "cell_type": "code",
   "execution_count": 31,
   "metadata": {},
   "outputs": [],
   "source": [
    "# Implement callback function to stop training\n",
    "class myCallback(tf.keras.callbacks.Callback): \n",
    "    def on_epoch_end(self, epoch, logs={}): \n",
    "        if(logs.get('val_loss') < VAL_LOSS_THRESHOLD):   \n",
    "            print(\"\\nReached %2.2f%% val_loss, so stopping training!!\" %(VAL_LOSS_THRESHOLD*100))   \n",
    "            self.model.stop_training = True"
   ]
  },
  {
   "cell_type": "code",
   "execution_count": 32,
   "metadata": {},
   "outputs": [],
   "source": [
    "callbacks = myCallback()"
   ]
  },
  {
   "cell_type": "code",
   "execution_count": 43,
   "metadata": {},
   "outputs": [],
   "source": [
    "history = model.fit(data_tf,lable_tf ,validation_split=0.1, batch_size=32, epochs=25,callbacks=[callbacks])"
   ]
  },
  {
   "cell_type": "code",
   "execution_count": 117,
   "metadata": {},
   "outputs": [],
   "source": [
    "predictions = model.predict(\n",
    "    x=test_pixel, \n",
    "    batch_size=32, \n",
    "    verbose=0\n",
    ") "
   ]
  },
  {
   "cell_type": "code",
   "execution_count": 76,
   "metadata": {},
   "outputs": [
    {
     "name": "stdout",
     "output_type": "stream",
     "text": [
      "[9.9999374e-01 1.0000000e+00 9.9999952e-01 9.9999976e-01 1.0000000e+00\n",
      " 9.9999511e-01 9.9991995e-01 9.9999952e-01 9.9999416e-01 3.4142715e-08\n",
      " 1.0000000e+00 9.9999952e-01 1.0000000e+00 1.0000000e+00 9.9999952e-01\n",
      " 1.0000000e+00 9.9999845e-01 9.9999905e-01 9.9999619e-01 9.9999726e-01\n",
      " 9.9999809e-01 1.0000000e+00 9.9999720e-01 9.9997842e-01 9.9999160e-01\n",
      " 4.2660041e-08]\n",
      "6\n"
     ]
    },
    {
     "data": {
      "text/plain": [
       "1.0"
      ]
     },
     "execution_count": 76,
     "metadata": {},
     "output_type": "execute_result"
    }
   ],
   "source": [
    "i=0\n",
    "\n",
    "print((predictions)[i])\n",
    "print(test_lable[i])\n",
    "max((predictions)[i])"
   ]
  },
  {
   "cell_type": "code",
   "execution_count": 118,
   "metadata": {},
   "outputs": [
    {
     "data": {
      "image/png": "[encoded data removed]",
      "text/plain": [
       "<Figure size 432x288 with 1 Axes>"
      ]
     },
     "metadata": {
      "needs_background": "light"
     },
     "output_type": "display_data"
    }
   ],
   "source": [
    "plt.plot(history.history['loss'])\n",
    "plt.plot(history.history['val_loss'])\n",
    "plt.title('model loss')\n",
    "plt.ylabel('loss')\n",
    "plt.xlabel('epoch')\n",
    "plt.legend(['train', 'val'], loc='upper left')\n",
    "plt.show()"
   ]
  },
  {
   "cell_type": "code",
   "execution_count": 119,
   "metadata": {},
   "outputs": [
    {
     "data": {
      "image/png": "[encoded data removed]",
      "text/plain": [
       "<Figure size 432x288 with 1 Axes>"
      ]
     },
     "metadata": {
      "needs_background": "light"
     },
     "output_type": "display_data"
    }
   ],
   "source": [
    "plt.plot(history.history['accuracy'])\n",
    "plt.plot(history.history['val_accuracy'])\n",
    "plt.title('model accuracy')\n",
    "plt.ylabel('accuracy')\n",
    "plt.xlabel('epoch')\n",
    "plt.legend(['train', 'val'], loc='upper left')\n",
    "plt.show()\n"
   ]
  },
  {
   "cell_type": "code",
   "execution_count": 111,
   "metadata": {},
   "outputs": [
    {
     "data": {
      "text/plain": [
       "{'loss': [3.180116891860962],\n",
       " 'accuracy': [0.04322311654686928],\n",
       " 'val_loss': [3.1833064556121826],\n",
       " 'val_accuracy': [0.04260743036866188]}"
      ]
     },
     "execution_count": 111,
     "metadata": {},
     "output_type": "execute_result"
    }
   ],
   "source": [
    "history.history"
   ]
  },
  {
   "cell_type": "code",
   "execution_count": null,
   "metadata": {},
   "outputs": [],
   "source": []
  },
  {
   "cell_type": "code",
   "execution_count": null,
   "metadata": {},
   "outputs": [],
   "source": []
  },
  {
   "cell_type": "code",
   "execution_count": null,
   "metadata": {},
   "outputs": [],
   "source": []
  },
  {
   "cell_type": "code",
   "execution_count": null,
   "metadata": {},
   "outputs": [],
   "source": []
  },
  {
   "cell_type": "code",
   "execution_count": null,
   "metadata": {},
   "outputs": [],
   "source": []
  },
  {
   "cell_type": "code",
   "execution_count": null,
   "metadata": {},
   "outputs": [],
   "source": []
  },
  {
   "cell_type": "code",
   "execution_count": null,
   "metadata": {},
   "outputs": [],
   "source": []
  },
  {
   "cell_type": "code",
   "execution_count": null,
   "metadata": {},
   "outputs": [],
   "source": []
  },
  {
   "cell_type": "code",
   "execution_count": null,
   "metadata": {},
   "outputs": [],
   "source": []
  },
  {
   "cell_type": "code",
   "execution_count": null,
   "metadata": {},
   "outputs": [],
   "source": []
  },
  {
   "cell_type": "code",
   "execution_count": null,
   "metadata": {},
   "outputs": [],
   "source": []
  }
 ],
 "metadata": {
  "kernelspec": {
   "display_name": "Python 3",
   "language": "python",
   "name": "python3"
  },
  "language_info": {
   "codemirror_mode": {
    "name": "ipython",
    "version": 3
   },
   "file_extension": ".py",
   "mimetype": "text/x-python",
   "name": "python",
   "nbconvert_exporter": "python",
   "pygments_lexer": "ipython3",
   "version": "3.7.7"
  }
 },
 "nbformat": 4,
 "nbformat_minor": 4
}
