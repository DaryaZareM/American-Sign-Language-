{
 "cells": [
  {
   "cell_type": "code",
   "execution_count": 1,
   "metadata": {},
   "outputs": [],
   "source": [
    "from keras.models import Sequential\n",
    "from keras.layers import Dense, Activation, Conv2D, Flatten\n",
    "import csv\n",
    "import numpy\n",
    "import keras\n",
    "from matplotlib import pyplot as plt\n",
    "import tensorflow as tf\n",
    "from sklearn import preprocessing\n"
   ]
  },
  {
   "cell_type": "markdown",
   "metadata": {},
   "source": [
    "## read csv\n",
    "#### read train and test \n",
    "#### seprate lables"
   ]
  },
  {
   "cell_type": "code",
   "execution_count": 2,
   "metadata": {},
   "outputs": [],
   "source": [
    "reader = csv.reader(open(\"sign_mnist_train.csv\", \"r\"), delimiter=\",\")\n",
    "xtrain = list(reader)\n",
    "xtrain=xtrain[1:]\n",
    "train_data = numpy.array(xtrain).astype(\"int\")"
   ]
  },
  {
   "cell_type": "code",
   "execution_count": 3,
   "metadata": {},
   "outputs": [],
   "source": [
    "reader = csv.reader(open(\"sign_mnist_test.csv\", \"r\"), delimiter=\",\")\n",
    "xtest = list(reader)\n",
    "xtest=xtest[1:]\n",
    "test_data = numpy.array(xtest).astype(\"int\")"
   ]
  },
  {
   "cell_type": "code",
   "execution_count": 4,
   "metadata": {},
   "outputs": [],
   "source": [
    "train_lable = train_data[:,0]\n",
    "train_pixel = train_data[:,1:]\n"
   ]
  },
  {
   "cell_type": "code",
   "execution_count": 5,
   "metadata": {},
   "outputs": [],
   "source": [
    "test_lable = test_data[:,0]\n",
    "test_pixel = test_data[:,1:]\n"
   ]
  },
  {
   "cell_type": "markdown",
   "metadata": {},
   "source": [
    "#  normalize train_pixel and test_pixel"
   ]
  },
  {
   "cell_type": "code",
   "execution_count": 6,
   "metadata": {},
   "outputs": [],
   "source": [
    "import pandas as pd\n",
    "x = train_pixel #returns a numpy array\n",
    "min_max_scaler = preprocessing.MinMaxScaler()\n",
    "x_scaled = min_max_scaler.fit_transform(x)\n",
    "norm_train_pixel = pd.DataFrame(x_scaled)"
   ]
  },
  {
   "cell_type": "code",
   "execution_count": 7,
   "metadata": {},
   "outputs": [],
   "source": [
    "x = test_pixel #returns a numpy array\n",
    "min_max_scaler = preprocessing.MinMaxScaler()\n",
    "x_scaled = min_max_scaler.fit_transform(x)\n",
    "norm_test_pixel = pd.DataFrame(x_scaled)"
   ]
  },
  {
   "cell_type": "markdown",
   "metadata": {},
   "source": [
    "### tensor <-- numpy\n"
   ]
  },
  {
   "cell_type": "code",
   "execution_count": 18,
   "metadata": {},
   "outputs": [],
   "source": [
    "data_tf = tf.convert_to_tensor(norm_train_pixel, numpy.float32)\n",
    "lable_tf = tf.convert_to_tensor(train_lable, numpy.float32)"
   ]
  },
  {
   "cell_type": "code",
   "execution_count": 19,
   "metadata": {},
   "outputs": [],
   "source": [
    "lable_tf =tf.keras.utils.to_categorical(lable_tf,26)\n",
    "tl = tf.keras.utils.to_categorical(test_lable,26)"
   ]
  },
  {
   "cell_type": "code",
   "execution_count": 20,
   "metadata": {},
   "outputs": [
    {
     "data": {
      "text/plain": [
       "array([[0., 0., 0., ..., 0., 0., 0.],\n",
       "       [0., 0., 0., ..., 0., 0., 0.],\n",
       "       [0., 0., 1., ..., 0., 0., 0.],\n",
       "       ...,\n",
       "       [0., 0., 0., ..., 0., 0., 0.],\n",
       "       [0., 0., 0., ..., 0., 0., 0.],\n",
       "       [0., 0., 0., ..., 1., 0., 0.]], dtype=float32)"
      ]
     },
     "execution_count": 20,
     "metadata": {},
     "output_type": "execute_result"
    }
   ],
   "source": [
    "lable_tf"
   ]
  },
  {
   "cell_type": "markdown",
   "metadata": {},
   "source": [
    "#  creating model"
   ]
  },
  {
   "cell_type": "code",
   "execution_count": null,
   "metadata": {},
   "outputs": [],
   "source": [
    "#create model\n",
    "model1 = Sequential()\n",
    "#add model layers\n",
    "model1.add(Conv2D(64, kernel_size=3, activation=’relu’, input_shape=(28,28,1)))\n",
    "model1.add(Conv2D(32, kernel_size=3, activation=’relu’))\n",
    "model1.add(Flatten())\n",
    "model1.add(Dense(10, activation=’softmax’))"
   ]
  },
  {
   "cell_type": "code",
   "execution_count": null,
   "metadata": {},
   "outputs": [],
   "source": []
  },
  {
   "cell_type": "code",
   "execution_count": null,
   "metadata": {},
   "outputs": [],
   "source": []
  },
  {
   "cell_type": "code",
   "execution_count": 28,
   "metadata": {},
   "outputs": [],
   "source": [
    "model=model1"
   ]
  },
  {
   "cell_type": "code",
   "execution_count": 34,
   "metadata": {},
   "outputs": [],
   "source": [
    "opt = keras.optimizers.Adam(learning_rate=0.01)\n",
    "model.compile(loss='categorical_crossentropy', optimizer=opt,metrics=['accuracy'] )"
   ]
  },
  {
   "cell_type": "code",
   "execution_count": 30,
   "metadata": {},
   "outputs": [],
   "source": [
    "VAL_LOSS_THRESHOLD = 0.20"
   ]
  },
  {
   "cell_type": "code",
   "execution_count": 31,
   "metadata": {},
   "outputs": [],
   "source": [
    "# Implement callback function to stop training\n",
    "class myCallback(tf.keras.callbacks.Callback): \n",
    "    def on_epoch_end(self, epoch, logs={}): \n",
    "        if(logs.get('val_loss') < VAL_LOSS_THRESHOLD):   \n",
    "            print(\"\\nReached %2.2f%% val_loss, so stopping training!!\" %(VAL_LOSS_THRESHOLD*100))   \n",
    "            self.model.stop_training = True"
   ]
  },
  {
   "cell_type": "code",
   "execution_count": 32,
   "metadata": {},
   "outputs": [],
   "source": [
    "callbacks = myCallback()"
   ]
  },
  {
   "cell_type": "code",
   "execution_count": 33,
   "metadata": {},
   "outputs": [
    {
     "name": "stdout",
     "output_type": "stream",
     "text": [
      "Epoch 1/25\n",
      "773/773 [==============================] - 4s 6ms/step - loss: 5.6011 - accuracy: 0.0423 - val_loss: 7.7283 - val_accuracy: 0.0444\n",
      "Epoch 2/25\n",
      "773/773 [==============================] - 4s 6ms/step - loss: 5.2461 - accuracy: 0.0421 - val_loss: 7.9293 - val_accuracy: 0.0419\n",
      "Epoch 3/25\n",
      "773/773 [==============================] - 4s 6ms/step - loss: 5.3684 - accuracy: 0.0436 - val_loss: 7.3706 - val_accuracy: 0.0382\n",
      "Epoch 4/25\n",
      "773/773 [==============================] - 4s 6ms/step - loss: 5.3496 - accuracy: 0.0431 - val_loss: 6.9719 - val_accuracy: 0.0419\n",
      "Epoch 5/25\n",
      "773/773 [==============================] - 4s 6ms/step - loss: 5.4523 - accuracy: 0.0396 - val_loss: 5.5439 - val_accuracy: 0.0506\n",
      "Epoch 6/25\n",
      "773/773 [==============================] - 4s 6ms/step - loss: 5.1714 - accuracy: 0.0431 - val_loss: 5.1977 - val_accuracy: 0.0339\n",
      "Epoch 7/25\n",
      "773/773 [==============================] - 4s 6ms/step - loss: 5.2331 - accuracy: 0.0419 - val_loss: 7.0852 - val_accuracy: 0.0419\n",
      "Epoch 8/25\n",
      "773/773 [==============================] - 4s 6ms/step - loss: 5.1813 - accuracy: 0.0420 - val_loss: 6.4769 - val_accuracy: 0.0412\n",
      "Epoch 9/25\n",
      "773/773 [==============================] - 4s 6ms/step - loss: 5.3820 - accuracy: 0.0433 - val_loss: 6.0277 - val_accuracy: 0.0419\n",
      "Epoch 10/25\n",
      "773/773 [==============================] - 4s 6ms/step - loss: 5.2036 - accuracy: 0.0401 - val_loss: 5.2365 - val_accuracy: 0.0401\n",
      "Epoch 11/25\n",
      "773/773 [==============================] - 4s 6ms/step - loss: 5.3231 - accuracy: 0.0412 - val_loss: 7.1817 - val_accuracy: 0.0324\n",
      "Epoch 12/25\n",
      "773/773 [==============================] - 4s 6ms/step - loss: 5.3924 - accuracy: 0.0414 - val_loss: 5.6033 - val_accuracy: 0.0419\n",
      "Epoch 13/25\n",
      "773/773 [==============================] - 4s 6ms/step - loss: 5.2230 - accuracy: 0.0409 - val_loss: 5.6806 - val_accuracy: 0.0382\n",
      "Epoch 14/25\n",
      "773/773 [==============================] - 4s 6ms/step - loss: 5.2679 - accuracy: 0.0420 - val_loss: 5.5439 - val_accuracy: 0.0371\n",
      "Epoch 15/25\n",
      "773/773 [==============================] - 4s 6ms/step - loss: 5.3809 - accuracy: 0.0418 - val_loss: 5.2573 - val_accuracy: 0.0506\n",
      "Epoch 16/25\n",
      "773/773 [==============================] - 4s 6ms/step - loss: 5.2650 - accuracy: 0.0399 - val_loss: 4.8535 - val_accuracy: 0.0412\n",
      "Epoch 17/25\n",
      "773/773 [==============================] - 4s 6ms/step - loss: 5.2655 - accuracy: 0.0412 - val_loss: 6.9578 - val_accuracy: 0.0408\n",
      "Epoch 18/25\n",
      "773/773 [==============================] - 4s 6ms/step - loss: 5.2982 - accuracy: 0.0434 - val_loss: 5.8286 - val_accuracy: 0.0426\n",
      "Epoch 19/25\n",
      "773/773 [==============================] - 4s 6ms/step - loss: 5.1844 - accuracy: 0.0429 - val_loss: 5.6202 - val_accuracy: 0.0444\n",
      "Epoch 20/25\n",
      "773/773 [==============================] - 4s 6ms/step - loss: 5.2880 - accuracy: 0.0413 - val_loss: 6.3700 - val_accuracy: 0.0452\n",
      "Epoch 21/25\n",
      "773/773 [==============================] - 4s 6ms/step - loss: 5.1683 - accuracy: 0.0439 - val_loss: 5.2672 - val_accuracy: 0.0419\n",
      "Epoch 22/25\n",
      "773/773 [==============================] - 4s 6ms/step - loss: 5.3571 - accuracy: 0.0450 - val_loss: 5.4598 - val_accuracy: 0.0368\n",
      "Epoch 23/25\n",
      "773/773 [==============================] - 4s 6ms/step - loss: 5.4799 - accuracy: 0.0425 - val_loss: 6.5150 - val_accuracy: 0.0448\n",
      "Epoch 24/25\n",
      "773/773 [==============================] - 4s 5ms/step - loss: 5.0923 - accuracy: 0.0404 - val_loss: 5.4294 - val_accuracy: 0.0452\n",
      "Epoch 25/25\n",
      "773/773 [==============================] - 4s 6ms/step - loss: 5.2882 - accuracy: 0.0415 - val_loss: 4.8618 - val_accuracy: 0.0339\n"
     ]
    }
   ],
   "source": [
    "history = model.fit(data_tf,lable_tf ,validation_split=0.1, batch_size=32, epochs=25,callbacks=[callbacks])"
   ]
  },
  {
   "cell_type": "code",
   "execution_count": 117,
   "metadata": {},
   "outputs": [],
   "source": [
    "predictions = model.predict(\n",
    "    x=test_pixel, \n",
    "    batch_size=32, \n",
    "    verbose=0\n",
    ") "
   ]
  },
  {
   "cell_type": "code",
   "execution_count": 76,
   "metadata": {},
   "outputs": [
    {
     "name": "stdout",
     "output_type": "stream",
     "text": [
      "[9.9999374e-01 1.0000000e+00 9.9999952e-01 9.9999976e-01 1.0000000e+00\n",
      " 9.9999511e-01 9.9991995e-01 9.9999952e-01 9.9999416e-01 3.4142715e-08\n",
      " 1.0000000e+00 9.9999952e-01 1.0000000e+00 1.0000000e+00 9.9999952e-01\n",
      " 1.0000000e+00 9.9999845e-01 9.9999905e-01 9.9999619e-01 9.9999726e-01\n",
      " 9.9999809e-01 1.0000000e+00 9.9999720e-01 9.9997842e-01 9.9999160e-01\n",
      " 4.2660041e-08]\n",
      "6\n"
     ]
    },
    {
     "data": {
      "text/plain": [
       "1.0"
      ]
     },
     "execution_count": 76,
     "metadata": {},
     "output_type": "execute_result"
    }
   ],
   "source": [
    "i=0\n",
    "\n",
    "print((predictions)[i])\n",
    "print(test_lable[i])\n",
    "max((predictions)[i])"
   ]
  },
  {
   "cell_type": "code",
   "execution_count": 118,
   "metadata": {},
   "outputs": [
    {
     "data": {
      "image/png": "[encoded data removed]",
      "text/plain": [
       "<Figure size 432x288 with 1 Axes>"
      ]
     },
     "metadata": {
      "needs_background": "light"
     },
     "output_type": "display_data"
    }
   ],
   "source": [
    "plt.plot(history.history['loss'])\n",
    "plt.plot(history.history['val_loss'])\n",
    "plt.title('model loss')\n",
    "plt.ylabel('loss')\n",
    "plt.xlabel('epoch')\n",
    "plt.legend(['train', 'val'], loc='upper left')\n",
    "plt.show()"
   ]
  },
  {
   "cell_type": "code",
   "execution_count": 119,
   "metadata": {},
   "outputs": [
    {
     "data": {
      "image/png": "[encoded data removed]",
      "text/plain": [
       "<Figure size 432x288 with 1 Axes>"
      ]
     },
     "metadata": {
      "needs_background": "light"
     },
     "output_type": "display_data"
    }
   ],
   "source": [
    "plt.plot(history.history['accuracy'])\n",
    "plt.plot(history.history['val_accuracy'])\n",
    "plt.title('model accuracy')\n",
    "plt.ylabel('accuracy')\n",
    "plt.xlabel('epoch')\n",
    "plt.legend(['train', 'val'], loc='upper left')\n",
    "plt.show()\n"
   ]
  },
  {
   "cell_type": "code",
   "execution_count": 111,
   "metadata": {},
   "outputs": [
    {
     "data": {
      "text/plain": [
       "{'loss': [3.180116891860962],\n",
       " 'accuracy': [0.04322311654686928],\n",
       " 'val_loss': [3.1833064556121826],\n",
       " 'val_accuracy': [0.04260743036866188]}"
      ]
     },
     "execution_count": 111,
     "metadata": {},
     "output_type": "execute_result"
    }
   ],
   "source": [
    "history.history"
   ]
  },
  {
   "cell_type": "code",
   "execution_count": null,
   "metadata": {},
   "outputs": [],
   "source": []
  },
  {
   "cell_type": "code",
   "execution_count": null,
   "metadata": {},
   "outputs": [],
   "source": []
  },
  {
   "cell_type": "code",
   "execution_count": null,
   "metadata": {},
   "outputs": [],
   "source": []
  },
  {
   "cell_type": "code",
   "execution_count": null,
   "metadata": {},
   "outputs": [],
   "source": []
  },
  {
   "cell_type": "code",
   "execution_count": null,
   "metadata": {},
   "outputs": [],
   "source": []
  },
  {
   "cell_type": "code",
   "execution_count": null,
   "metadata": {},
   "outputs": [],
   "source": []
  },
  {
   "cell_type": "code",
   "execution_count": null,
   "metadata": {},
   "outputs": [],
   "source": []
  },
  {
   "cell_type": "code",
   "execution_count": null,
   "metadata": {},
   "outputs": [],
   "source": []
  },
  {
   "cell_type": "code",
   "execution_count": null,
   "metadata": {},
   "outputs": [],
   "source": []
  },
  {
   "cell_type": "code",
   "execution_count": null,
   "metadata": {},
   "outputs": [],
   "source": []
  },
  {
   "cell_type": "code",
   "execution_count": null,
   "metadata": {},
   "outputs": [],
   "source": []
  }
 ],
 "metadata": {
  "kernelspec": {
   "display_name": "Python 3",
   "language": "python",
   "name": "python3"
  },
  "language_info": {
   "codemirror_mode": {
    "name": "ipython",
    "version": 3
   },
   "file_extension": ".py",
   "mimetype": "text/x-python",
   "name": "python",
   "nbconvert_exporter": "python",
   "pygments_lexer": "ipython3",
   "version": "3.7.7"
  }
 },
 "nbformat": 4,
 "nbformat_minor": 4
}
